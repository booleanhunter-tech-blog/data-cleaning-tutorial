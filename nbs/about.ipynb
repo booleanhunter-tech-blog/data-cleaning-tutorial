{
 "cells": [
  {
   "cell_type": "markdown",
   "id": "c735f67e-a9d5-4c7a-b857-536a841e2a8e",
   "metadata": {},
   "source": [
    "# Motivations"
   ]
  },
  {
   "cell_type": "markdown",
   "id": "523fcc3e-88d9-46b3-a6ea-950d47e03bb4",
   "metadata": {},
   "source": [
    "This project draws inspiration from Joel Spolsky's insightful blog post on the importance of a [development abstraction layer](https://www.joelonsoftware.com/2006/04/11/the-development-abstraction-layer-2/). While the article was intended mainly for a project manager, I think it applies well even for a developer relations role. Eliminate any obstacles that hinder programmers from doing their job is super important. And often accessing relevant documentation promptly is one of them!\n",
    "\n",
    "As a developer advocate, I understand the need to make it straightforward for newcomers to grasp the concepts and utilize the functionality being described. But along with creating the tutorial, I pondered, why not also explore ways to enhance documentation and improve accessibility? The features incorporated into this website are an experimental exploration of this very idea. Here are some of them:\n",
    "\n",
    "1. **Search Feature**: As a developer, I frequently find myself recalling that I've come across a particular API or method in a tutorial but struggling to pinpoint where. A search feature would be incredibly helpful, eliminating the need for me to remember the exact location of each section.\n",
    "2. **Table of Contents**: Include a sticky table of contents for easy navigation through the material that can be collapsed by the reader.\n",
    "3. **Sidenotes**: Utilize the large unused margins on the left and right to incorporate sidenotes. These sidenotes can be used to provide quick explanations of code aspects without causing distraction. Developers can choose to ignore or collapse them based on their preferences (see example on right).\n",
    "\n",
    "::: {.column-margin}\n",
    "<details>\n",
    "    <summary>Collapsible sidenote</summary>\n",
    "- `df.age.isnull()`: This part of the code returns a boolean series where each value is `True` if the corresponding value in the `age` column of `raw_data` is missing, and `False` otherwise.\n",
    "</details>\n",
    ":::\n",
    "   \n",
    "::: {.callout-note}\n",
    "## 4. Callouts\n",
    "Employ callouts to highlight particularly important or interesting points within the documentation.\n",
    ":::\n",
    "\n",
    "5. **Report an Issue**: Offer a user-friendly \"report an issue\" button that directs readers to the GitHub repository's issues tab, if they face any difficulties while navigating the tutorial / docs.\n",
    "6. **Visual Elements**: Enhance engagement by integrating mermaid diagrams and Plotly for visual representation and interactivity. This approach can encourage interaction with the content, transforming readers into participants.\n",
    "7. A dark mode! 😎\n",
    "\n",
    "What are your thoughts on these ideas?\n",
    "\n"
   ]
  },
  {
   "cell_type": "code",
   "execution_count": null,
   "id": "c4ed5de1-71d7-4bba-aa07-1614ea85c9fc",
   "metadata": {},
   "outputs": [],
   "source": []
  }
 ],
 "metadata": {
  "kernelspec": {
   "display_name": "Python 3 (ipykernel)",
   "language": "python",
   "name": "python3"
  },
  "language_info": {
   "codemirror_mode": {
    "name": "ipython",
    "version": 3
   },
   "file_extension": ".py",
   "mimetype": "text/x-python",
   "name": "python",
   "nbconvert_exporter": "python",
   "pygments_lexer": "ipython3",
   "version": "3.11.0rc1"
  }
 },
 "nbformat": 4,
 "nbformat_minor": 5
}
